{
 "cells": [
  {
   "cell_type": "code",
   "execution_count": 1,
   "metadata": {},
   "outputs": [],
   "source": [
    "from stanfordcorenlp import StanfordCoreNLP\n",
    "import re\n",
    "from bs4 import BeautifulSoup\n",
    "import pandas as pd\n",
    "delimiter = '\\t'\n",
    "E1 = 'e1'\n",
    "E2 = 'e2'"
   ]
  },
  {
   "cell_type": "code",
   "execution_count": 9,
   "metadata": {},
   "outputs": [],
   "source": [
    "text = [\n",
    "'7\t\"The current view is that the chronic  <e1>inflammation</e1> in the distal part of the stomach caused by Helicobacter pylori  <e2>infection</e2> results in an increased acid production from the non-infected upper corpus region of the stomach.\"',\n",
    "'8\t\" <e1>People</e1> have been moving back into  <e2>downtown</e2>.\"',\n",
    "'9\t\"The  <e1>lawsonite</e1> was contained in a  <e2>platinum crucible</e2> and the counter-weight was a plastic crucible with metal pieces.\"',\n",
    "'10\t\"The solute was placed inside a beaker and 5 mL of the  <e1>solvent</e1> was pipetted into a 25 mL glass  <e2>flask</e2> for each trial.\"'\n",
    "]"
   ]
  },
  {
   "cell_type": "code",
   "execution_count": 25,
   "metadata": {},
   "outputs": [],
   "source": [
    "\n",
    "def extract_features(train_sents):\n",
    "\t'''\n",
    "\t:param train_sents:list\n",
    "\t:return:features:list\n",
    "\t'''\n",
    "\tfeatures = []\n",
    "\n",
    "\tnlp = StanfordCoreNLP(r'C:\\stanford-corenlp-full-2018-02-27')\n",
    "\n",
    "\tfor line in train_sents:\n",
    "\t\tfeature = {}\n",
    "\t\tsoup = BeautifulSoup(line, 'html.parser')\n",
    "\t\te1 = soup.find(E1).text\n",
    "\t\te2 = soup.find(E2).text\n",
    "\t\t# print(e1, e2)\n",
    "\n",
    "\t\tsent = re.split(r'[.\"\\s]+', line)\n",
    "\n",
    "\t\tfor w in sent:\n",
    "\t\t\tif w.startswith(\"<\" + E1 + \">\"):\n",
    "\t\t\t\tfeature['index1'] = sent.index(w)\n",
    "\t\t\t\tbreak\n",
    "\t\tfor w in sent:\n",
    "\t\t\tif w.startswith(\"<\" + E2 + \">\"):\n",
    "\t\t\t\tfeature['index2'] = sent.index(w)\n",
    "\t\t\t\tbreak\n",
    "\n",
    "\t\tsent = re.split(r'[.\\s]+', soup.text)\n",
    "\t\t# print(sent)\n",
    "\n",
    "\t\tfeature['preffix1'], feature['preffix2'] = e1[:2], e2[:2]\n",
    "\t\tfeature['suffix1'], feature['suffix2'] = e1[-2:], e2[-2:]\n",
    "\t\tfeature['istitle1'], feature['istitle2'] = str(e1.istitle()), str(e2.istitle())\n",
    "\t\tfeature['pos_tag1'], feature['pos_tag2'] = nlp.pos_tag(e1)[0][1], nlp.pos_tag(e2)[0][1]\n",
    "\n",
    "\t\tif feature['index1'] < 2:\n",
    "\t\t\tfeature['pre_pos_tag1'] = 'None'\n",
    "\t\t\tfeature['pre_istitle1'] = 'None'\n",
    "\t\telse:\n",
    "\t\t\tword1 = sent[feature['index1'] - 1]\n",
    "\t\t\tfeature['pre_istitle1'] = str(word1.istitle())\n",
    "\t\t\tfeature['pre_pos_tag1'] = nlp.pos_tag(word1)[0][1]\n",
    "\n",
    "\t\tif feature['index2'] > len(sent) - 2:\n",
    "\t\t\tfeature['post_pos_tag2'] = 'None'\n",
    "\t\t\tfeature['post_istitle2'] = 'None'\n",
    "\t\telse:\n",
    "\t\t\tword2 = sent[feature['index2'] + 1]\n",
    "\t\t\tfeature['post_istitle2'] = str(word2.istitle())\n",
    "\t\t\tfeature['post_pos_tag2'] = nlp.pos_tag(word2)[0][1]\n",
    "\n",
    "\t\t# print(feature)\n",
    "\t\tfeatures.append(feature)\n",
    "\tnlp.close()\n",
    "\treturn features"
   ]
  },
  {
   "cell_type": "code",
   "execution_count": 26,
   "metadata": {},
   "outputs": [],
   "source": [
    "features = extract_features(text)"
   ]
  },
  {
   "cell_type": "code",
   "execution_count": 27,
   "metadata": {},
   "outputs": [
    {
     "data": {
      "text/plain": [
       "[{'index1': 8,\n",
       "  'index2': 20,\n",
       "  'istitle1': 'False',\n",
       "  'istitle2': 'False',\n",
       "  'pos_tag1': 'NN',\n",
       "  'pos_tag2': 'NN',\n",
       "  'post_istitle2': 'False',\n",
       "  'post_pos_tag2': 'NNS',\n",
       "  'pre_istitle1': 'False',\n",
       "  'pre_pos_tag1': 'JJ',\n",
       "  'preffix1': 'in',\n",
       "  'preffix2': 'in',\n",
       "  'suffix1': 'on',\n",
       "  'suffix2': 'on'},\n",
       " {'index1': 1,\n",
       "  'index2': 7,\n",
       "  'istitle1': 'True',\n",
       "  'istitle2': 'False',\n",
       "  'pos_tag1': 'NNS',\n",
       "  'pos_tag2': 'NN',\n",
       "  'post_istitle2': 'False',\n",
       "  'post_pos_tag2': 'NN',\n",
       "  'pre_istitle1': 'None',\n",
       "  'pre_pos_tag1': 'None',\n",
       "  'preffix1': 'Pe',\n",
       "  'preffix2': 'do',\n",
       "  'suffix1': 'le',\n",
       "  'suffix2': 'wn'},\n",
       " {'index1': 2,\n",
       "  'index2': 7,\n",
       "  'istitle1': 'False',\n",
       "  'istitle2': 'False',\n",
       "  'pos_tag1': 'NN',\n",
       "  'pos_tag2': 'NN',\n",
       "  'post_istitle2': 'False',\n",
       "  'post_pos_tag2': 'NN',\n",
       "  'pre_istitle1': 'True',\n",
       "  'pre_pos_tag1': '``',\n",
       "  'preffix1': 'la',\n",
       "  'preffix2': 'pl',\n",
       "  'suffix1': 'te',\n",
       "  'suffix2': 'le'},\n",
       " {'index1': 13,\n",
       "  'index2': 21,\n",
       "  'istitle1': 'False',\n",
       "  'istitle2': 'False',\n",
       "  'pos_tag1': 'JJ',\n",
       "  'pos_tag2': 'NN',\n",
       "  'post_istitle2': 'False',\n",
       "  'post_pos_tag2': 'IN',\n",
       "  'pre_istitle1': 'False',\n",
       "  'pre_pos_tag1': 'DT',\n",
       "  'preffix1': 'so',\n",
       "  'preffix2': 'fl',\n",
       "  'suffix1': 'nt',\n",
       "  'suffix2': 'sk'}]"
      ]
     },
     "execution_count": 27,
     "metadata": {},
     "output_type": "execute_result"
    }
   ],
   "source": [
    "features"
   ]
  },
  {
   "cell_type": "code",
   "execution_count": 28,
   "metadata": {},
   "outputs": [],
   "source": [
    "def get_features_dataframe(features):\n",
    "\t'''\n",
    "\t:param features:list\n",
    "\t:return:features_dataframe:DataFrame\n",
    "\t'''\n",
    "\tfeatures_data = []  # data of dataframe\n",
    "\tfeatures_keys = list(features[0].keys())  # key of features\n",
    "\n",
    "\tfor item in features:\n",
    "\t\tfeature = []\n",
    "\t\tfor key in features_keys:\n",
    "\t\t\tfeature.append(item[key])\n",
    "\t\tfeatures_data.append(feature)\n",
    "\t# print(features_data)\n",
    "\n",
    "\tfeatures_dataframe = pd.DataFrame(features_data, columns=features_keys)\n",
    "\treturn features_dataframe"
   ]
  },
  {
   "cell_type": "code",
   "execution_count": 29,
   "metadata": {},
   "outputs": [],
   "source": [
    "features_dataframe = get_features_dataframe(features)"
   ]
  },
  {
   "cell_type": "code",
   "execution_count": 30,
   "metadata": {},
   "outputs": [],
   "source": [
    "def get_props_table(features_dataframe):\n",
    "\t'''\n",
    "\t:param features_dataframe:DataFrame\n",
    "\t:return:props_table:dict\n",
    "\t'''\n",
    "\tprops_table = {}  # table of props,which aim to trans prop to num\n",
    "\n",
    "\tfor prop_key in features_dataframe.columns:\n",
    "\t\t# print(set(features_dataframe[prop_key]))\n",
    "\t\tprops = sorted(set(features_dataframe[prop_key]))\n",
    "\t\tprint(props)\n",
    "\t\tprops_table[prop_key] = props\n",
    "\treturn props_table"
   ]
  },
  {
   "cell_type": "code",
   "execution_count": 31,
   "metadata": {},
   "outputs": [
    {
     "data": {
      "text/html": [
       "<div>\n",
       "<style scoped>\n",
       "    .dataframe tbody tr th:only-of-type {\n",
       "        vertical-align: middle;\n",
       "    }\n",
       "\n",
       "    .dataframe tbody tr th {\n",
       "        vertical-align: top;\n",
       "    }\n",
       "\n",
       "    .dataframe thead th {\n",
       "        text-align: right;\n",
       "    }\n",
       "</style>\n",
       "<table border=\"1\" class=\"dataframe\">\n",
       "  <thead>\n",
       "    <tr style=\"text-align: right;\">\n",
       "      <th></th>\n",
       "      <th>index1</th>\n",
       "      <th>index2</th>\n",
       "      <th>preffix1</th>\n",
       "      <th>preffix2</th>\n",
       "      <th>suffix1</th>\n",
       "      <th>suffix2</th>\n",
       "      <th>istitle1</th>\n",
       "      <th>istitle2</th>\n",
       "      <th>pos_tag1</th>\n",
       "      <th>pos_tag2</th>\n",
       "      <th>pre_istitle1</th>\n",
       "      <th>pre_pos_tag1</th>\n",
       "      <th>post_istitle2</th>\n",
       "      <th>post_pos_tag2</th>\n",
       "    </tr>\n",
       "  </thead>\n",
       "  <tbody>\n",
       "    <tr>\n",
       "      <th>0</th>\n",
       "      <td>8</td>\n",
       "      <td>20</td>\n",
       "      <td>in</td>\n",
       "      <td>in</td>\n",
       "      <td>on</td>\n",
       "      <td>on</td>\n",
       "      <td>False</td>\n",
       "      <td>False</td>\n",
       "      <td>NN</td>\n",
       "      <td>NN</td>\n",
       "      <td>False</td>\n",
       "      <td>JJ</td>\n",
       "      <td>False</td>\n",
       "      <td>NNS</td>\n",
       "    </tr>\n",
       "    <tr>\n",
       "      <th>1</th>\n",
       "      <td>1</td>\n",
       "      <td>7</td>\n",
       "      <td>Pe</td>\n",
       "      <td>do</td>\n",
       "      <td>le</td>\n",
       "      <td>wn</td>\n",
       "      <td>True</td>\n",
       "      <td>False</td>\n",
       "      <td>NNS</td>\n",
       "      <td>NN</td>\n",
       "      <td>None</td>\n",
       "      <td>None</td>\n",
       "      <td>False</td>\n",
       "      <td>NN</td>\n",
       "    </tr>\n",
       "    <tr>\n",
       "      <th>2</th>\n",
       "      <td>2</td>\n",
       "      <td>7</td>\n",
       "      <td>la</td>\n",
       "      <td>pl</td>\n",
       "      <td>te</td>\n",
       "      <td>le</td>\n",
       "      <td>False</td>\n",
       "      <td>False</td>\n",
       "      <td>NN</td>\n",
       "      <td>NN</td>\n",
       "      <td>True</td>\n",
       "      <td>``</td>\n",
       "      <td>False</td>\n",
       "      <td>NN</td>\n",
       "    </tr>\n",
       "    <tr>\n",
       "      <th>3</th>\n",
       "      <td>13</td>\n",
       "      <td>21</td>\n",
       "      <td>so</td>\n",
       "      <td>fl</td>\n",
       "      <td>nt</td>\n",
       "      <td>sk</td>\n",
       "      <td>False</td>\n",
       "      <td>False</td>\n",
       "      <td>JJ</td>\n",
       "      <td>NN</td>\n",
       "      <td>False</td>\n",
       "      <td>DT</td>\n",
       "      <td>False</td>\n",
       "      <td>IN</td>\n",
       "    </tr>\n",
       "  </tbody>\n",
       "</table>\n",
       "</div>"
      ],
      "text/plain": [
       "   index1  index2 preffix1 preffix2 suffix1 suffix2 istitle1 istitle2  \\\n",
       "0       8      20       in       in      on      on    False    False   \n",
       "1       1       7       Pe       do      le      wn     True    False   \n",
       "2       2       7       la       pl      te      le    False    False   \n",
       "3      13      21       so       fl      nt      sk    False    False   \n",
       "\n",
       "  pos_tag1 pos_tag2 pre_istitle1 pre_pos_tag1 post_istitle2 post_pos_tag2  \n",
       "0       NN       NN        False           JJ         False           NNS  \n",
       "1      NNS       NN         None         None         False            NN  \n",
       "2       NN       NN         True           ``         False            NN  \n",
       "3       JJ       NN        False           DT         False            IN  "
      ]
     },
     "execution_count": 31,
     "metadata": {},
     "output_type": "execute_result"
    }
   ],
   "source": [
    "features_dataframe"
   ]
  },
  {
   "cell_type": "code",
   "execution_count": 32,
   "metadata": {},
   "outputs": [
    {
     "name": "stdout",
     "output_type": "stream",
     "text": [
      "[1, 2, 8, 13]\n",
      "[7, 20, 21]\n",
      "['Pe', 'in', 'la', 'so']\n",
      "['do', 'fl', 'in', 'pl']\n",
      "['le', 'nt', 'on', 'te']\n",
      "['le', 'on', 'sk', 'wn']\n",
      "['False', 'True']\n",
      "['False']\n",
      "['JJ', 'NN', 'NNS']\n",
      "['NN']\n",
      "['False', 'None', 'True']\n",
      "['DT', 'JJ', 'None', '``']\n",
      "['False']\n",
      "['IN', 'NN', 'NNS']\n"
     ]
    }
   ],
   "source": [
    "props_table = get_props_table(features_dataframe)"
   ]
  },
  {
   "cell_type": "code",
   "execution_count": 37,
   "metadata": {},
   "outputs": [],
   "source": [
    "def props2nums(props_table, values_of_props, prop_key):\n",
    "\t'''\n",
    "\t:param props_table:dict\n",
    "\t:param values_of_props:list or Series\n",
    "\t:param prop_key:str\n",
    "\t:return:nums_of_props:list\n",
    "\t'''\n",
    "\tnums_of_props = []\n",
    "\tfor value in values_of_props:\n",
    "\t\tnums_of_props.append(props_table[prop_key].index(value)+1)\n",
    "\treturn nums_of_props\n",
    "\n",
    "def features2nums(features_dataframe, props_table):\n",
    "\t'''\n",
    "\t:param features_dataframe:DataFrame\n",
    "\t:param props_table:dict\n",
    "\t:return:nums_of_features:DataFrame\n",
    "\t'''\n",
    "\tnums_of_features = pd.DataFrame(columns=features_dataframe.columns)\n",
    "\tfor prop_key in features_dataframe.columns:\n",
    "\t\tvalues_of_props = features_dataframe[prop_key]\n",
    "\t\tnums_of_props = props2nums(props_table, values_of_props, prop_key)\n",
    "\t\tnums_of_features[prop_key] = nums_of_props\n",
    "\treturn nums_of_features"
   ]
  },
  {
   "cell_type": "code",
   "execution_count": 38,
   "metadata": {},
   "outputs": [],
   "source": [
    "nums_of_features = features2nums(features_dataframe, props_table)"
   ]
  },
  {
   "cell_type": "code",
   "execution_count": 39,
   "metadata": {},
   "outputs": [
    {
     "data": {
      "text/html": [
       "<div>\n",
       "<style scoped>\n",
       "    .dataframe tbody tr th:only-of-type {\n",
       "        vertical-align: middle;\n",
       "    }\n",
       "\n",
       "    .dataframe tbody tr th {\n",
       "        vertical-align: top;\n",
       "    }\n",
       "\n",
       "    .dataframe thead th {\n",
       "        text-align: right;\n",
       "    }\n",
       "</style>\n",
       "<table border=\"1\" class=\"dataframe\">\n",
       "  <thead>\n",
       "    <tr style=\"text-align: right;\">\n",
       "      <th></th>\n",
       "      <th>index1</th>\n",
       "      <th>index2</th>\n",
       "      <th>preffix1</th>\n",
       "      <th>preffix2</th>\n",
       "      <th>suffix1</th>\n",
       "      <th>suffix2</th>\n",
       "      <th>istitle1</th>\n",
       "      <th>istitle2</th>\n",
       "      <th>pos_tag1</th>\n",
       "      <th>pos_tag2</th>\n",
       "      <th>pre_istitle1</th>\n",
       "      <th>pre_pos_tag1</th>\n",
       "      <th>post_istitle2</th>\n",
       "      <th>post_pos_tag2</th>\n",
       "    </tr>\n",
       "  </thead>\n",
       "  <tbody>\n",
       "    <tr>\n",
       "      <th>0</th>\n",
       "      <td>3</td>\n",
       "      <td>2</td>\n",
       "      <td>2</td>\n",
       "      <td>3</td>\n",
       "      <td>3</td>\n",
       "      <td>2</td>\n",
       "      <td>1</td>\n",
       "      <td>1</td>\n",
       "      <td>2</td>\n",
       "      <td>1</td>\n",
       "      <td>1</td>\n",
       "      <td>2</td>\n",
       "      <td>1</td>\n",
       "      <td>3</td>\n",
       "    </tr>\n",
       "    <tr>\n",
       "      <th>1</th>\n",
       "      <td>1</td>\n",
       "      <td>1</td>\n",
       "      <td>1</td>\n",
       "      <td>1</td>\n",
       "      <td>1</td>\n",
       "      <td>4</td>\n",
       "      <td>2</td>\n",
       "      <td>1</td>\n",
       "      <td>3</td>\n",
       "      <td>1</td>\n",
       "      <td>2</td>\n",
       "      <td>3</td>\n",
       "      <td>1</td>\n",
       "      <td>2</td>\n",
       "    </tr>\n",
       "    <tr>\n",
       "      <th>2</th>\n",
       "      <td>2</td>\n",
       "      <td>1</td>\n",
       "      <td>3</td>\n",
       "      <td>4</td>\n",
       "      <td>4</td>\n",
       "      <td>1</td>\n",
       "      <td>1</td>\n",
       "      <td>1</td>\n",
       "      <td>2</td>\n",
       "      <td>1</td>\n",
       "      <td>3</td>\n",
       "      <td>4</td>\n",
       "      <td>1</td>\n",
       "      <td>2</td>\n",
       "    </tr>\n",
       "    <tr>\n",
       "      <th>3</th>\n",
       "      <td>4</td>\n",
       "      <td>3</td>\n",
       "      <td>4</td>\n",
       "      <td>2</td>\n",
       "      <td>2</td>\n",
       "      <td>3</td>\n",
       "      <td>1</td>\n",
       "      <td>1</td>\n",
       "      <td>1</td>\n",
       "      <td>1</td>\n",
       "      <td>1</td>\n",
       "      <td>1</td>\n",
       "      <td>1</td>\n",
       "      <td>1</td>\n",
       "    </tr>\n",
       "  </tbody>\n",
       "</table>\n",
       "</div>"
      ],
      "text/plain": [
       "   index1  index2  preffix1  preffix2  suffix1  suffix2  istitle1  istitle2  \\\n",
       "0       3       2         2         3        3        2         1         1   \n",
       "1       1       1         1         1        1        4         2         1   \n",
       "2       2       1         3         4        4        1         1         1   \n",
       "3       4       3         4         2        2        3         1         1   \n",
       "\n",
       "   pos_tag1  pos_tag2  pre_istitle1  pre_pos_tag1  post_istitle2  \\\n",
       "0         2         1             1             2              1   \n",
       "1         3         1             2             3              1   \n",
       "2         2         1             3             4              1   \n",
       "3         1         1             1             1              1   \n",
       "\n",
       "   post_pos_tag2  \n",
       "0              3  \n",
       "1              2  \n",
       "2              2  \n",
       "3              1  "
      ]
     },
     "execution_count": 39,
     "metadata": {},
     "output_type": "execute_result"
    }
   ],
   "source": [
    "nums_of_features"
   ]
  },
  {
   "cell_type": "code",
   "execution_count": 41,
   "metadata": {},
   "outputs": [],
   "source": [
    "def normalize(nums_of_features):\n",
    "\tnormalized_features = pd.DataFrame(columns=nums_of_features.columns)\n",
    "\tfor key in nums_of_features.columns:\n",
    "\t\ta = nums_of_features[key] - nums_of_features[key].mean()\n",
    "\t\tb = nums_of_features[key].std()\n",
    "\t\tif b == 0:\n",
    "\t\t\tnormalized_features[key] = 0\n",
    "\t\t\tcontinue\n",
    "\t\tnormalized_features[key] = a / b\n",
    "\treturn normalized_features"
   ]
  },
  {
   "cell_type": "code",
   "execution_count": 42,
   "metadata": {},
   "outputs": [],
   "source": [
    "normalized_features=normalize(nums_of_features)\n",
    "text = []\n",
    "for row in normalized_features.index:\n",
    "    row_str = [str(x) for x in list(normalized_features.loc[row])]\n",
    "    text.append(delimiter.join(row_str))"
   ]
  },
  {
   "cell_type": "code",
   "execution_count": 43,
   "metadata": {},
   "outputs": [
    {
     "data": {
      "text/plain": [
       "['0.3872983346207417\\t0.26111648393354675\\t-0.3872983346207417\\t0.3872983346207417\\t0.3872983346207417\\t-0.3872983346207417\\t-0.5\\t0.0\\t0.0\\t0.0\\t-0.7833494518006403\\t-0.3872983346207417\\t0.0\\t1.224744871391589',\n",
       " '-1.161895003862225\\t-0.7833494518006403\\t-1.161895003862225\\t-1.161895003862225\\t-1.161895003862225\\t1.161895003862225\\t1.5\\t0.0\\t1.224744871391589\\t0.0\\t0.26111648393354675\\t0.3872983346207417\\t0.0\\t0.0',\n",
       " '-0.3872983346207417\\t-0.7833494518006403\\t0.3872983346207417\\t1.161895003862225\\t1.161895003862225\\t-1.161895003862225\\t-0.5\\t0.0\\t0.0\\t0.0\\t1.3055824196677337\\t1.161895003862225\\t0.0\\t0.0',\n",
       " '1.161895003862225\\t1.3055824196677337\\t1.161895003862225\\t-0.3872983346207417\\t-0.3872983346207417\\t0.3872983346207417\\t-0.5\\t0.0\\t-1.224744871391589\\t0.0\\t-0.7833494518006403\\t-1.161895003862225\\t0.0\\t-1.224744871391589']"
      ]
     },
     "execution_count": 43,
     "metadata": {},
     "output_type": "execute_result"
    }
   ],
   "source": [
    "text"
   ]
  },
  {
   "cell_type": "code",
   "execution_count": 1,
   "metadata": {},
   "outputs": [
    {
     "data": {
      "text/plain": [
       "'E:\\\\workspace\\\\github\\\\DJH-SemEval2010_task8'"
      ]
     },
     "execution_count": 1,
     "metadata": {},
     "output_type": "execute_result"
    }
   ],
   "source": [
    "pwd"
   ]
  },
  {
   "cell_type": "code",
   "execution_count": 3,
   "metadata": {},
   "outputs": [],
   "source": [
    "train_text=['1.295553514642969\\t1.0080122384353334\\t-0.8439955322160048\\t-0.8047064057572209\\t0.5939622222364747\\t1.3413298606407469\\t-0.21001974711693366\\t-0.022364874106437876\\t-0.4356138843362755\\t1.055384844334442\\t-0.7162597422505553\\t-0.7868193289548033\\t-0.10530481009138977\\t-1.0381538789748221', '-0.7394078291960542\\t-0.10748257297437272\\t-0.8886093828750715\\t-1.0974622056067467\\t-0.15569991803156233\\t-0.1530853393383667\\t-0.21001974711693366\\t-0.022364874106437876\\t-0.4356138843362755\\t-0.4365887825741174\\t1.472463687086512\\t1.3952856696631892\\t-0.10530481009138977\\t-0.24008920613187676', '-0.7394078291960542\\t-0.47931417677760807\\t-1.1116786361704054\\t-1.0161411500929896\\t0.6475095179699059\\t-0.98541785578243\\t-0.21001974711693366\\t-0.022364874106437876\\t-0.4356138843362755\\t-0.4365887825741174\\t1.472463687086512\\t1.3952856696631892\\t-0.10530481009138977\\t1.3560401395540143', '-0.5544113433925066\\t-0.6652299786792257\\t0.9405584941466664\\t1.1957915598812061\\t-0.7982674668327369\\t-0.7962513747724156\\t-0.21001974711693366\\t-0.022364874106437876\\t-0.4356138843362755\\t-0.4365887825741174\\t-0.7162597422505553\\t-0.6958982873457202\\t-0.10530481009138977\\t-1.0381538789748221', '-0.7394078291960542\\t-1.4088931862856964\\t1.1784990309950225\\t-1.4227464276617756\\t0.344074842147129\\t0.5846639366006894\\t-0.21001974711693366\\t-0.022364874106437876\\t-0.4356138843362755\\t-0.4365887825741174\\t1.472463687086512\\t1.3952856696631892\\t-0.10530481009138977\\t2.0400955734193964']\n",
    "key_text=['4', '17', '12', '17', '13']"
   ]
  },
  {
   "cell_type": "code",
   "execution_count": null,
   "metadata": {},
   "outputs": [],
   "source": []
  },
  {
   "cell_type": "code",
   "execution_count": null,
   "metadata": {},
   "outputs": [],
   "source": []
  },
  {
   "cell_type": "code",
   "execution_count": null,
   "metadata": {},
   "outputs": [],
   "source": []
  },
  {
   "cell_type": "code",
   "execution_count": null,
   "metadata": {},
   "outputs": [],
   "source": []
  },
  {
   "cell_type": "code",
   "execution_count": null,
   "metadata": {},
   "outputs": [],
   "source": []
  },
  {
   "cell_type": "code",
   "execution_count": null,
   "metadata": {},
   "outputs": [],
   "source": []
  },
  {
   "cell_type": "code",
   "execution_count": null,
   "metadata": {},
   "outputs": [],
   "source": []
  },
  {
   "cell_type": "code",
   "execution_count": null,
   "metadata": {},
   "outputs": [],
   "source": []
  },
  {
   "cell_type": "code",
   "execution_count": null,
   "metadata": {},
   "outputs": [],
   "source": []
  }
 ],
 "metadata": {
  "kernelspec": {
   "display_name": "Python 3",
   "language": "python",
   "name": "python3"
  },
  "language_info": {
   "codemirror_mode": {
    "name": "ipython",
    "version": 3
   },
   "file_extension": ".py",
   "mimetype": "text/x-python",
   "name": "python",
   "nbconvert_exporter": "python",
   "pygments_lexer": "ipython3",
   "version": "3.6.4"
  }
 },
 "nbformat": 4,
 "nbformat_minor": 2
}
